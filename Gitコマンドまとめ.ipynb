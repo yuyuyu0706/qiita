{
 "cells": [
  {
   "cell_type": "markdown",
   "metadata": {},
   "source": [
    "# STEP1 初動の手順\n",
    "リポジトリの複製 or 新規作成が始まり大抵は複製が良いかも\n",
    "\n",
    "## リポジトリ用のディレクトリ作成\n",
    "`mkdir ~/git/vim`\n",
    "`cd ~/git/vim`\n",
    "\n",
    "## リモートリポジトリを複製する\n",
    "`git clone [URL]`  \n",
    "master の / がカレントに入る  \n",
    "指定したディレクトリのみ複製する  \n",
    "  → 要研究。少なくとも階層は短縮不可。  \n",
    "  → kaggle環境はシンボリックリンクで解決した\n",
    "\n",
    "## ローカルリポジトリを作成する (.git作成)\n",
    "`git init`\n",
    "\n",
    "## ローカルリポジトリを削除する\n",
    "rm -rf ./.git があるディレクトリ  \n",
    "特にgitコマンド使わず、削除してOK\n",
    "\n",
    "## ユーザ情報を登録する\n",
    "これが完了しないとgit commitできない  \n",
    "ただし、git clone した場合は不要\n",
    "\n",
    "`git config --global user.email \"yuyuyu@aa\"`\n",
    "`git config --global user.name \"yuyuyu\"`\n",
    "\n",
    "## SSH公開鍵登録\n",
    "gitユーザーでssh認証しないとNG (ハマった)"
   ]
  },
  {
   "cell_type": "markdown",
   "metadata": {},
   "source": [
    "# STEP2 リモートリポジトリの準備\n",
    "git clone すると、originで自動登録される  \n",
    "ローカルとリモートは同じディレクトリ構成にする\n",
    "\n",
    "## リモートリポジトリを登録する\n",
    "`git remote add vim https://github.com/yuyuyu0706/vim.git`\n",
    "\n",
    "## リモートリポジトリを削除する\n",
    "`git remote rm vim`\n",
    "\n",
    "## リモートリポジトリを確認する\n",
    "`git remote -v`\n",
    "\n",
    "## リモートリポジトリ名を変更する\n",
    "`git remote rename origin kaggle`\n",
    "\n",
    "## リモートリポジトリ設定を変更する\n",
    "`git remote set-url kaggle git@github.com:ID/リポ名`  \n",
    "HTTPでcloneしたリポジトリをSSHに変更した  \n",
    "別リポジトリに切り替える場合も同じ"
   ]
  },
  {
   "cell_type": "markdown",
   "metadata": {},
   "source": [
    "# STEP3 コミット手順\n",
    ".git を持つディレクトリで実行すること  \n",
    ".git を持つパス配下がリポジトリ管理されている\n",
    "\n",
    "## ローカルリポジトリのステージングに登録する\n",
    "`git add hello.html`\n",
    "\n",
    "## ローカルリポジトリのステージングを全消し\n",
    "`git reset HEAD`\n",
    "\n",
    "## ローカルリポジトリにステータスを確認する\n",
    "`git status`\n",
    "\n",
    "## ローカルリポジトリでコミットする\n",
    "`git commit -am \"Update\"`  \n",
    "  -a 変更ファイル全てコミット  \n",
    "  -m コメントをつける\n",
    "\n",
    "## リモートリポジトリに変更を反映する\n",
    "（branch名=masterの場合)  \n",
    "`git push vim master`\n",
    "\n",
    "## リモートリポジトリの変更を確認する\n",
    "`git fetch vim`\n",
    "`git diff vim/master`\n",
    "\n",
    "## リモートリポジトリの変更を取り込む\n",
    "（branch名=master)\n",
    "`git pull vim master`\n"
   ]
  },
  {
   "cell_type": "markdown",
   "metadata": {},
   "source": [
    "# その他\n",
    "## コミット履歴を参照する  \n",
    "`git log -n 10`\n",
    "\n",
    "[参考]\n",
    "https://techacademy.jp/magazine/6235"
   ]
  },
  {
   "cell_type": "markdown",
   "metadata": {},
   "source": [
    "# WEB操作手順\n",
    "## ディレクトリ作成\n",
    "http://maeokaka.hatenablog.jp/entry/2016/07/07/001441\n",
    "\n",
    "## ファイルアップロード\n",
    "https://qiita.com/yoichiro6642/items/727a581486af281853e7"
   ]
  },
  {
   "cell_type": "code",
   "execution_count": null,
   "metadata": {},
   "outputs": [],
   "source": []
  }
 ],
 "metadata": {
  "kernelspec": {
   "display_name": "Python 3",
   "language": "python",
   "name": "python3"
  },
  "language_info": {
   "codemirror_mode": {
    "name": "ipython",
    "version": 3
   },
   "file_extension": ".py",
   "mimetype": "text/x-python",
   "name": "python",
   "nbconvert_exporter": "python",
   "pygments_lexer": "ipython3",
   "version": "3.5.2"
  },
  "toc": {
   "base_numbering": 1,
   "nav_menu": {},
   "number_sections": false,
   "sideBar": true,
   "skip_h1_title": false,
   "title_cell": "Table of Contents",
   "title_sidebar": "Contents",
   "toc_cell": false,
   "toc_position": {},
   "toc_section_display": true,
   "toc_window_display": true
  }
 },
 "nbformat": 4,
 "nbformat_minor": 4
}
